{
 "cells": [
  {
   "cell_type": "markdown",
   "id": "b825c99d-b59b-45bc-bc95-8b3ee30216a8",
   "metadata": {},
   "source": [
    "Install and import"
   ]
  },
  {
   "cell_type": "markdown",
   "id": "71fd0997-dc5b-4111-a247-f97bb3a372c8",
   "metadata": {},
   "source": [
    "!pip install mne"
   ]
  },
  {
   "cell_type": "code",
   "execution_count": 3,
   "id": "a56a2ec8-133f-4069-af27-d013e50a347d",
   "metadata": {},
   "outputs": [],
   "source": [
    "import numpy as np\n",
    "import matplotlib as mpl\n",
    "import matplotlib.pyplot as plt\n",
    "import scipy.io\n",
    "import mne\n",
    "from mne import create_info\n",
    "from mne.io import RawArray\n",
    "from mne.datasets import eegbci\n",
    "from mne.io import concatenate_raws, read_raw_edf\n",
    "from numpy import load"
   ]
  },
  {
   "cell_type": "markdown",
   "id": "22755fdc-1583-462a-b965-7c00f03d2b1b",
   "metadata": {},
   "source": [
    "Preprocess"
   ]
  },
  {
   "cell_type": "code",
   "execution_count": 4,
   "id": "f057f440-0272-4078-97c7-c12248107849",
   "metadata": {},
   "outputs": [],
   "source": [
    "y = load('datay.npy')\n",
    "X = load('dataX.npy')"
   ]
  },
  {
   "cell_type": "code",
   "execution_count": 10,
   "id": "dc37f822-8b55-4162-ba20-4748c95c1eaf",
   "metadata": {},
   "outputs": [],
   "source": [
    "from sklearn.model_selection import train_test_split\n",
    "X_train, X_test, y_train, y_test = train_test_split(X, y, test_size=0.33)"
   ]
  },
  {
   "cell_type": "code",
   "execution_count": 11,
   "id": "924aceb2-c910-4faf-8600-caf2467e6d7d",
   "metadata": {},
   "outputs": [],
   "source": [
    "dataset = []\n",
    "arr = np.arange(len(X))\n",
    "np.random.shuffle(arr)\n",
    "\n",
    "for n in range(len(X)):\n",
    "    dataset.append((X[arr[n]], y[arr[n]]))"
   ]
  },
  {
   "cell_type": "code",
   "execution_count": 13,
   "id": "36af9d26-80f7-4b81-9fa9-294e23cd5314",
   "metadata": {},
   "outputs": [
    {
     "name": "stdout",
     "output_type": "stream",
     "text": [
      "There are 31 left and 32 right in training set.\n",
      "There are 11 left and 16 right in validation set.\n"
     ]
    }
   ],
   "source": [
    "split_valid = 0.3\n",
    "n_valid = int(split_valid*len(X))\n",
    "\n",
    "dataset_train = dataset[0:len(X)-n_valid]\n",
    "dataset_valid = dataset[len(X)-n_valid:len(X)]\n",
    "\n",
    "count_left = 0\n",
    "count_right = 0\n",
    "for n in range(len(dataset_train)):\n",
    "    if dataset_train[n][1] == 2:\n",
    "        count_left = count_left+1\n",
    "    else:\n",
    "        count_right = count_right+1\n",
    "print('There are {} left and {} right in training set.'.format(count_left, count_right))\n",
    "\n",
    "count_left = 0\n",
    "count_right = 0\n",
    "for n in range(len(dataset_valid)):\n",
    "    if dataset_train[n][1] == 2:\n",
    "        count_left = count_left+1\n",
    "    else:\n",
    "        count_right = count_right+1\n",
    "print('There are {} left and {} right in validation set.'.format(count_left, count_right))"
   ]
  },
  {
   "cell_type": "code",
   "execution_count": 14,
   "id": "d55e2e95-582c-4fb7-9861-5caa7dfa4e47",
   "metadata": {},
   "outputs": [],
   "source": [
    "batch_size = 1024\n",
    "train_loader = torch.utils.data.DataLoader(dataset_train, batch_size=batch_size, shuffle=False, num_workers=1)\n",
    "valid_loader = torch.utils.data.DataLoader(dataset_valid, batch_size=batch_size, shuffle=False, num_workers=1)"
   ]
  },
  {
   "cell_type": "code",
   "execution_count": 16,
   "id": "663971ba-9269-4a16-bb66-afc9d166826c",
   "metadata": {},
   "outputs": [],
   "source": [
    "import numpy as np\n",
    "from sklearn.metrics import roc_auc_score, precision_score, recall_score, accuracy_score\n",
    "import torch\n",
    "import torch.nn as nn\n",
    "import torch.cuda as cuda\n",
    "import torch.optim as optim\n",
    "from torch.autograd import Variable\n",
    "import torch.nn.functional as F\n",
    "import torch.optim as optim\n",
    "import matplotlib.pyplot as plt\n",
    "from torch.nn import MaxPool1d\n",
    "class CNN_Model_v1(nn.Module):\n",
    "    def __init__(self):\n",
    "        super(CNN_Model_v1, self).__init__()\n",
    "        # Layer 1\n",
    "        self.conv1 = nn.Conv1d(in_channels=1,out_channels=25,kernel_size= (11, 1, 1, 25))\n",
    "        self.conv2 = nn.Conv1d(in_channels=25,out_channels=25,kernel_size= (1, 2, 25, 25))\n",
    "        self.maxpool1 = MaxPool1d(kernel_size=(1,3,1,1), stride=(1,3,1,1))\n",
    "        self.conv3 = nn.Conv1d(in_channels=25,out_channels=50,kernel_size= (11, 1, 25, 50))\n",
    "        self.maxpool2 = MaxPool1d(kernel_size=(1,3,1,1), stride=(1,3,1,1))\n",
    "        self.conv4 = nn.Conv1d(in_channels=50,out_channels=100,kernel_size= (11, 1, 50, 100))\n",
    "        self.maxpool3 = MaxPool1d(kernel_size=(1,3,1,1), stride=(1,3,1,1))\n",
    "        self.conv5 = nn.Conv1d(in_channels=100,out_channels=200,kernel_size= (11, 1, 100, 200))\n",
    "        self.maxpool4 = MaxPool1d(kernel_size=(1,2,1,1), stride=(1,2,1,1))\n",
    "        self.fc1 = nn.Linear(800, 2)\n",
    "\n",
    "\n",
    "\n",
    "\n",
    "    def forward(self, x):\n",
    "        # Layer 1\n",
    "        x = self.conv1(x)\n",
    "        x = self.conv2(x)\n",
    "        x = self.maxpool1(x)\n",
    "        x = self.conv3(x)\n",
    "        x = self.maxpool2(x)\n",
    "        x = self.conv4(x)\n",
    "        x = self.maxpool3(x)\n",
    "        x = self.conv5(x)\n",
    "        x = self.maxpool4(x)\n",
    "        x = nn.sigmoid(self.fc1(x))\n",
    "        return x\n",
    "\n",
    "\n"
   ]
  },
  {
   "cell_type": "code",
   "execution_count": 18,
   "id": "3ffc21fe-b3f2-44bd-bfb5-4c65339829dc",
   "metadata": {},
   "outputs": [
    {
     "ename": "NameError",
     "evalue": "name 'cuda' is not defined",
     "output_type": "error",
     "traceback": [
      "\u001b[0;31m---------------------------------------------------------------------------\u001b[0m",
      "\u001b[0;31mNameError\u001b[0m                                 Traceback (most recent call last)",
      "\u001b[0;32m/tmp/ipykernel_83/588809160.py\u001b[0m in \u001b[0;36m<module>\u001b[0;34m\u001b[0m\n\u001b[1;32m      2\u001b[0m \u001b[0mnet\u001b[0m \u001b[0;34m=\u001b[0m \u001b[0mCNN_Model_v1\u001b[0m\u001b[0;34m(\u001b[0m\u001b[0;34m)\u001b[0m\u001b[0;34m\u001b[0m\u001b[0;34m\u001b[0m\u001b[0m\n\u001b[1;32m      3\u001b[0m \u001b[0;34m\u001b[0m\u001b[0m\n\u001b[0;32m----> 4\u001b[0;31m \u001b[0;32mif\u001b[0m \u001b[0mcuda\u001b[0m\u001b[0;34m.\u001b[0m\u001b[0mis_available\u001b[0m\u001b[0;34m(\u001b[0m\u001b[0;34m)\u001b[0m\u001b[0;34m:\u001b[0m\u001b[0;34m\u001b[0m\u001b[0;34m\u001b[0m\u001b[0m\n\u001b[0m\u001b[1;32m      5\u001b[0m     \u001b[0mnet\u001b[0m \u001b[0;34m=\u001b[0m \u001b[0mnet\u001b[0m\u001b[0;34m.\u001b[0m\u001b[0mcuda\u001b[0m\u001b[0;34m(\u001b[0m\u001b[0;36m3\u001b[0m\u001b[0;34m)\u001b[0m\u001b[0;34m\u001b[0m\u001b[0;34m\u001b[0m\u001b[0m\n\u001b[1;32m      6\u001b[0m \u001b[0;34m\u001b[0m\u001b[0m\n",
      "\u001b[0;31mNameError\u001b[0m: name 'cuda' is not defined"
     ]
    }
   ],
   "source": [
    "# The model\n",
    "net = CNN_Model_v1()\n",
    "\n",
    "if cuda.is_available():\n",
    "    net = net.cuda(3)\n",
    "\n",
    "# Our loss function\n",
    "criterion = nn.CrossEntropyLoss()\n",
    "\n",
    "# Our optimizer\n",
    "learning_rate = 0.1\n",
    "optimizer = torch.optim.SGD(net.parameters(), lr=learning_rate, momentum=0.9) "
   ]
  },
  {
   "cell_type": "code",
   "execution_count": 12,
   "id": "dce7068e-3d03-44f4-a221-bf6c44493f02",
   "metadata": {},
   "outputs": [
    {
     "data": {
      "text/plain": [
       "array([3., 2., 2., 3., 3., 2., 3., 2., 3., 2., 2., 3., 2., 3., 2., 2., 3.,\n",
       "       2., 3., 2., 3., 3., 2., 2., 3., 3., 2., 3., 2., 2., 2., 3., 3., 2.,\n",
       "       3., 2., 2., 3., 3., 2., 2., 3., 3., 2., 3., 3., 2., 2., 3., 3., 2.,\n",
       "       2., 3., 2., 3., 3., 2., 2., 3., 2., 2., 3., 2., 3., 2., 3., 2., 3.,\n",
       "       3., 2., 2., 3., 3., 2., 2., 3., 2., 3., 2., 2., 3., 3., 2., 2., 3.,\n",
       "       3., 2., 3., 2., 3.], dtype=float32)"
      ]
     },
     "execution_count": 12,
     "metadata": {},
     "output_type": "execute_result"
    }
   ],
   "source": [
    "num_epochs = 600\n",
    "\n",
    "train_loss = []\n",
    "valid_loss = []\n",
    "train_accuracy = []\n",
    "valid_accuracy = []\n",
    "\n",
    "for epoch in range(num_epochs):\n",
    "    iter_loss = 0.0\n",
    "    correct = 0\n",
    "    iterations = 0\n",
    "    \n",
    "    net.train()\n",
    "    \n",
    "    for i, (items, classes) in enumerate(train_loader):\n",
    "        items = Variable(items)\n",
    "        classes = Variable(classes)\n",
    "        \n",
    "        if cuda.is_available():\n",
    "            items = items.cuda(3)\n",
    "            classes = classes.cuda(3)\n",
    "        \n",
    "        optimizer.zero_grad()\n",
    "        outputs = net(items)\n",
    "        loss = criterion(outputs, classes)\n",
    "        iter_loss += loss.item()\n",
    "        loss.backward()\n",
    "        optimizer.step()\n",
    "        \n",
    "        _, predicted = torch.max(outputs.data, 1)\n",
    "        correct += (predicted == classes.data).sum()\n",
    "        iterations += 1\n",
    "\n",
    "    train_loss.append(iter_loss/iterations)\n",
    "    \n",
    "    train_accuracy.append((100 * correct.float() / len(train_loader.dataset)))\n",
    "    \n",
    "    loss = 0.0\n",
    "    correct = 0\n",
    "    iterations = 0\n",
    "\n",
    "    net.eval()\n",
    "    \n",
    "    for i, (items, classes) in enumerate(valid_loader):\n",
    "        items = Variable(items)\n",
    "        classes = Variable(classes)\n",
    "        \n",
    "        if cuda.is_available():\n",
    "            items = items.cuda(3)\n",
    "            classes = classes.cuda(3)\n",
    "        \n",
    "        outputs = net(items)\n",
    "        loss += criterion(outputs, classes).item()\n",
    "        \n",
    "        _, predicted = torch.max(outputs.data, 1)\n",
    "        correct += (predicted == classes.data).sum()\n",
    "        \n",
    "        iterations += 1\n",
    "\n",
    "    valid_loss.append(loss/iterations)\n",
    "    correct_scalar = np.array([correct.clone().cpu()])[0]\n",
    "    valid_accuracy.append(correct_scalar / len(valid_loader.dataset) * 100.0)\n",
    "    \n",
    "    print ('Epoch %d/%d, Tr Loss: %.4f, Tr Acc: %.4f, Val Loss: %.4f, Val Acc: %.4f'\n",
    "               %(epoch+1, num_epochs, train_loss[-1], train_accuracy[-1], valid_loss[-1], valid_accuracy[-1]))"
   ]
  },
  {
   "cell_type": "code",
   "execution_count": null,
   "id": "6cda2963-ffb3-4a41-bc76-18998c992ece",
   "metadata": {},
   "outputs": [],
   "source": []
  }
 ],
 "metadata": {
  "kernelspec": {
   "display_name": "Python 3 (ipykernel)",
   "language": "python",
   "name": "python3"
  },
  "language_info": {
   "codemirror_mode": {
    "name": "ipython",
    "version": 3
   },
   "file_extension": ".py",
   "mimetype": "text/x-python",
   "name": "python",
   "nbconvert_exporter": "python",
   "pygments_lexer": "ipython3",
   "version": "3.9.7"
  }
 },
 "nbformat": 4,
 "nbformat_minor": 5
}
