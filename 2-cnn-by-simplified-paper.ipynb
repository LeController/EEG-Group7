{
 "cells": [
  {
   "cell_type": "markdown",
   "id": "a12fefe3-5931-4e8f-91b4-e415cc0b446a",
   "metadata": {},
   "source": [
    "# CNN following by the Simplified CNN paper\n",
    "* The model structure is following by [paper](https://www.frontiersin.org/articles/10.3389/fnhum.2020.00338/full\n",
    ")\n",
    "* The result is not same with the paper show"
   ]
  },
  {
   "cell_type": "code",
   "execution_count": 1,
   "id": "860b8b85-ee98-48b2-bb16-ef9f7058a127",
   "metadata": {},
   "outputs": [],
   "source": [
    "import numpy as np\n",
    "import matplotlib.pyplot as plt\n",
    "import mne\n",
    "import os\n",
    "import sys\n",
    "from mne.datasets import eegbci\n",
    "import glob\n",
    "from IPython.display import clear_output\n",
    "import numpy as np\n",
    "import torch\n",
    "from torch import nn\n",
    "import torch.optim as optim\n",
    "\n",
    "from mne.datasets import eegbci\n",
    "from sklearn.model_selection import train_test_split\n",
    "from torch.utils.data import TensorDataset\n",
    "from torch.utils.data import DataLoader\n",
    "from scipy import signal"
   ]
  },
  {
   "cell_type": "markdown",
   "id": "c0ff14f2-c8ec-4c19-bf7d-2478a7e9b1e0",
   "metadata": {},
   "source": [
    "## Data Preprocessing\n",
    "* Copy class from preprocessing file"
   ]
  },
  {
   "cell_type": "code",
   "execution_count": 2,
   "id": "28e6e139-f10b-4822-8729-8dd9dd0b8735",
   "metadata": {},
   "outputs": [],
   "source": [
    "class EEG:\n",
    "    def __init__(self, path, base_url, subjects, runs):\n",
    "        self.subpath = 'MNE-eegbci-data/files/eegmmidb/1.0.0'\n",
    "        self.path = path\n",
    "        self.base_url = base_url\n",
    "        self.subjects = subjects\n",
    "        self.runs = runs\n",
    "        \n",
    "        # download data if does not exist in path.\n",
    "        self.load_data()\n",
    "        self.data_to_raw()\n",
    "    \n",
    "    def load_data(self):\n",
    "        print(f\">>> Start download from: {self.base_url}.\")\n",
    "        print(f\"Downloading files to: {self.path}.\")\n",
    "        for subject in self.subjects:\n",
    "            eegbci.load_data(subject,self.runs,path=self.path,base_url=self.base_url)\n",
    "        print(\"Done.\")\n",
    "    \n",
    "    def data_to_raw(self):\n",
    "        fullpath = os.path.join(self.path, *self.subpath.split(sep='/'))\n",
    "        print(f\">>> Extract all subjects from: {fullpath}.\")\n",
    "        extension = \"edf\"\n",
    "        raws = []\n",
    "        count = 1\n",
    "        for i, subject in enumerate(self.subjects):\n",
    "            sname = f\"S{str(subject).zfill(3)}\".upper()\n",
    "            for j, run in enumerate(self.runs):\n",
    "                rname = f\"{sname}R{str(run).zfill(2)}\".upper()\n",
    "                path_file = os.path.join(fullpath, sname, f'{rname}.{extension}')\n",
    "                print(f\"Loading file #{count}/{len(self.subjects)*len(self.runs)}: {f'{rname}.{extension}'}\")\n",
    "                raw = mne.io.read_raw_edf( path_file , preload=True, verbose='WARNING' )\n",
    "                raws.append(raw)\n",
    "                count += 1\n",
    "\n",
    "        raw = mne.io.concatenate_raws(raws)\n",
    "        eegbci.standardize(raw)\n",
    "        montage = mne.channels.make_standard_montage('standard_1005')\n",
    "        raw.set_montage(montage)\n",
    "        self.raw = raw\n",
    "        print(\"Done.\")\n",
    "    \n",
    "    def filter(self, freq):\n",
    "        low, high = freq\n",
    "        print(f\">>> Apply filter.\")\n",
    "        self.raw.filter(low, high, fir_design='firwin', verbose=20)\n",
    "        \n",
    "    def get_events(self):\n",
    "        event_id = dict(T1=0, T2=1) # the events we want to extract\n",
    "        events, event_id = mne.events_from_annotations(self.raw, event_id=event_id)\n",
    "        return events, event_id\n",
    "    \n",
    "    def get_epochs(self, events, event_id):\n",
    "        picks = mne.pick_types(self.raw.info, eeg=True, exclude='bads')\n",
    "        tmin = 0.\n",
    "        tmax = 4.\n",
    "        epochs = mne.Epochs(self.raw, events, event_id, tmin, tmax, proj=True, \n",
    "                            picks=picks, baseline=None, preload=True)\n",
    "        \n",
    "#         epochs = epochs.copy().crop(tmin=0., tmax=4.)\n",
    "        return epochs\n",
    "    \n",
    "    def create_epochs(self):\n",
    "        print(\">>> Create Epochs.\")\n",
    "        events, event_id = self.get_events()\n",
    "        self.epochs = self.get_epochs(events, event_id)\n",
    "        print(\"Done.\")\n",
    "    \n",
    "    def get_X_y(self):\n",
    "        if self.epochs is None:\n",
    "            self.create_epochs()\n",
    "        self.X = self.epochs.get_data()\n",
    "        self.y = self.epochs.events[:, -1]\n",
    "        return self.X, self.y"
   ]
  },
  {
   "cell_type": "code",
   "execution_count": 3,
   "id": "fef197c3-3412-4d07-b976-db0970d94ce7",
   "metadata": {},
   "outputs": [
    {
     "name": "stdout",
     "output_type": "stream",
     "text": [
      ">>> Start download from: https://physionet.org/files/eegmmidb/1.0.0/.\n",
      "Downloading files to: C:\\Users\\supha\\datasets.\n",
      "Done.\n",
      ">>> Extract all subjects from: C:\\Users\\supha\\datasets\\MNE-eegbci-data\\files\\eegmmidb\\1.0.0.\n",
      "Loading file #1/60: S001R03.edf\n",
      "Loading file #2/60: S001R04.edf\n",
      "Loading file #3/60: S001R07.edf\n",
      "Loading file #4/60: S001R08.edf\n",
      "Loading file #5/60: S001R11.edf\n",
      "Loading file #6/60: S001R12.edf\n",
      "Loading file #7/60: S002R03.edf\n",
      "Loading file #8/60: S002R04.edf\n",
      "Loading file #9/60: S002R07.edf\n",
      "Loading file #10/60: S002R08.edf\n",
      "Loading file #11/60: S002R11.edf\n",
      "Loading file #12/60: S002R12.edf\n",
      "Loading file #13/60: S003R03.edf\n",
      "Loading file #14/60: S003R04.edf\n",
      "Loading file #15/60: S003R07.edf\n",
      "Loading file #16/60: S003R08.edf\n",
      "Loading file #17/60: S003R11.edf\n",
      "Loading file #18/60: S003R12.edf\n",
      "Loading file #19/60: S004R03.edf\n",
      "Loading file #20/60: S004R04.edf\n",
      "Loading file #21/60: S004R07.edf\n",
      "Loading file #22/60: S004R08.edf\n",
      "Loading file #23/60: S004R11.edf\n",
      "Loading file #24/60: S004R12.edf\n",
      "Loading file #25/60: S005R03.edf\n",
      "Loading file #26/60: S005R04.edf\n",
      "Loading file #27/60: S005R07.edf\n",
      "Loading file #28/60: S005R08.edf\n",
      "Loading file #29/60: S005R11.edf\n",
      "Loading file #30/60: S005R12.edf\n",
      "Loading file #31/60: S006R03.edf\n",
      "Loading file #32/60: S006R04.edf\n",
      "Loading file #33/60: S006R07.edf\n",
      "Loading file #34/60: S006R08.edf\n",
      "Loading file #35/60: S006R11.edf\n",
      "Loading file #36/60: S006R12.edf\n",
      "Loading file #37/60: S007R03.edf\n",
      "Loading file #38/60: S007R04.edf\n",
      "Loading file #39/60: S007R07.edf\n",
      "Loading file #40/60: S007R08.edf\n",
      "Loading file #41/60: S007R11.edf\n",
      "Loading file #42/60: S007R12.edf\n",
      "Loading file #43/60: S008R03.edf\n",
      "Loading file #44/60: S008R04.edf\n",
      "Loading file #45/60: S008R07.edf\n",
      "Loading file #46/60: S008R08.edf\n",
      "Loading file #47/60: S008R11.edf\n",
      "Loading file #48/60: S008R12.edf\n",
      "Loading file #49/60: S009R03.edf\n",
      "Loading file #50/60: S009R04.edf\n",
      "Loading file #51/60: S009R07.edf\n",
      "Loading file #52/60: S009R08.edf\n",
      "Loading file #53/60: S009R11.edf\n",
      "Loading file #54/60: S009R12.edf\n",
      "Loading file #55/60: S010R03.edf\n",
      "Loading file #56/60: S010R04.edf\n",
      "Loading file #57/60: S010R07.edf\n",
      "Loading file #58/60: S010R08.edf\n",
      "Loading file #59/60: S010R11.edf\n",
      "Loading file #60/60: S010R12.edf\n",
      "Done.\n",
      ">>> Apply filter.\n",
      "Filtering raw data in 60 contiguous segments\n",
      "Setting up band-pass filter from 1 - 40 Hz\n",
      "\n",
      "FIR filter parameters\n",
      "---------------------\n",
      "Designing a one-pass, zero-phase, non-causal bandpass filter:\n",
      "- Windowed time-domain design (firwin) method\n",
      "- Hamming window with 0.0194 passband ripple and 53 dB stopband attenuation\n",
      "- Lower passband edge: 1.00\n",
      "- Lower transition bandwidth: 1.00 Hz (-6 dB cutoff frequency: 0.50 Hz)\n",
      "- Upper passband edge: 40.00 Hz\n",
      "- Upper transition bandwidth: 10.00 Hz (-6 dB cutoff frequency: 45.00 Hz)\n",
      "- Filter length: 529 samples (3.306 sec)\n",
      "\n",
      ">>> Create Epochs.\n",
      "Used Annotations descriptions: ['T1', 'T2']\n",
      "Not setting metadata\n",
      "Not setting metadata\n",
      "900 matching events found\n",
      "No baseline correction applied\n",
      "0 projection items activated\n",
      "Loading data for 900 events and 641 original time points ...\n",
      "0 bad epochs dropped\n",
      "Done.\n"
     ]
    }
   ],
   "source": [
    "# home directory + datasets folder\n",
    "path = os.path.join(os.path.expanduser(\"~\"), 'datasets')\n",
    "base_url = 'https://physionet.org/files/eegmmidb/1.0.0/'\n",
    "# subjects = [1]\n",
    "runs = [3, 4, 7, 8, 11, 12]\n",
    "subjects = [i for i in range(1, 11)]\n",
    "# runs = [6,10,14]\n",
    "\n",
    "eeg = EEG(path, base_url, subjects, runs)\n",
    "\n",
    "# apply filter\n",
    "freq = (1., 40.)\n",
    "eeg.filter(freq=freq)\n",
    "\n",
    "eeg.create_epochs()"
   ]
  },
  {
   "cell_type": "markdown",
   "id": "980116c8-a0ed-44db-9154-4687c9514556",
   "metadata": {},
   "source": [
    "## Prepare Data"
   ]
  },
  {
   "cell_type": "code",
   "execution_count": 4,
   "id": "9934afb8-d4ba-405e-82e1-eaf768961de6",
   "metadata": {},
   "outputs": [
    {
     "name": "stdout",
     "output_type": "stream",
     "text": [
      "(900, 64, 641) (900,)\n"
     ]
    },
    {
     "data": {
      "text/plain": [
       "(900, 1, 64, 641)"
      ]
     },
     "execution_count": 4,
     "metadata": {},
     "output_type": "execute_result"
    }
   ],
   "source": [
    "X, y = eeg.get_X_y()\n",
    "\n",
    "print(X.shape, y.shape)\n",
    "\n",
    "X = X[:, np.newaxis,:,:]\n",
    "X.shape"
   ]
  },
  {
   "cell_type": "code",
   "execution_count": 5,
   "id": "ee774b17-e73d-4924-beb9-f362be80b012",
   "metadata": {},
   "outputs": [
    {
     "name": "stdout",
     "output_type": "stream",
     "text": [
      "(900, 1, 1, 641)\n",
      "(900, 1, 1, 641)\n",
      "(900, 1, 2, 641)\n"
     ]
    }
   ],
   "source": [
    "X2 = X[:, :, 1:2, :] \n",
    "print(X2.shape)\n",
    "\n",
    "X3= X[:, :, 5:6, :]\n",
    "print(X3.shape)\n",
    "\n",
    "X4 = np.concatenate((X2,X3), axis=2)\n",
    "print(X4.shape)\n",
    "X = X4"
   ]
  },
  {
   "cell_type": "code",
   "execution_count": 6,
   "id": "69305eda-60de-4f66-afe1-573c7cfbc570",
   "metadata": {},
   "outputs": [
    {
     "name": "stdout",
     "output_type": "stream",
     "text": [
      "(720, 1, 2, 641) (720,)\n"
     ]
    }
   ],
   "source": [
    "X_train, X_test, y_train, y_test = train_test_split(X, y, test_size=0.2)\n",
    "\n",
    "print(X_train.shape, y_train.shape)"
   ]
  },
  {
   "cell_type": "code",
   "execution_count": 7,
   "id": "22f0ee85-0997-4146-ad0b-2fa65835e707",
   "metadata": {},
   "outputs": [],
   "source": [
    "from sklearn.model_selection import train_test_split\n",
    "from torch.utils.data import TensorDataset\n",
    "from torch.utils.data import DataLoader\n",
    "\n",
    "batch_size = 32\n",
    "\n",
    "def create_dataloader(X, y, batch_size):\n",
    "    X_tensor = torch.tensor(X).float()\n",
    "    y_tensor = torch.tensor(y).long()\n",
    "    dataset_tensor = TensorDataset(X_tensor, y_tensor)\n",
    "    dl = torch.utils.data.DataLoader(dataset_tensor, batch_size=batch_size, shuffle=True)\n",
    "    return dl\n",
    "train_loader = create_dataloader(X_train, y_train, batch_size=batch_size)\n",
    "test_loader = create_dataloader(X_test, y_test, batch_size=batch_size)"
   ]
  },
  {
   "cell_type": "code",
   "execution_count": 8,
   "id": "6105bf6f-c225-4ca2-a485-4a1927fb5c35",
   "metadata": {},
   "outputs": [
    {
     "name": "stdout",
     "output_type": "stream",
     "text": [
      "torch.Size([32, 1, 2, 641])\n"
     ]
    }
   ],
   "source": [
    "for i, (images, label) in enumerate(train_loader):\n",
    "    print(images.shape)\n",
    "    break"
   ]
  },
  {
   "cell_type": "markdown",
   "id": "e76d79db-513f-40ff-8480-00bcf5aaf294",
   "metadata": {},
   "source": [
    "## Model and evaluation"
   ]
  },
  {
   "cell_type": "code",
   "execution_count": 9,
   "id": "aa7e33ac-fb07-482d-9c2a-f88997f0dac8",
   "metadata": {},
   "outputs": [
    {
     "name": "stdout",
     "output_type": "stream",
     "text": [
      "cuda\n"
     ]
    }
   ],
   "source": [
    "#set gpu if available\n",
    "device = torch.device('cuda' if torch.cuda.is_available() else 'cpu')\n",
    "print(device)"
   ]
  },
  {
   "cell_type": "code",
   "execution_count": 10,
   "id": "8151ed36-4873-4313-9b01-b3ca1317691c",
   "metadata": {},
   "outputs": [],
   "source": [
    "# Convolutional neural network (two convolutional layers)\n",
    "class ConvNet(nn.Module):\n",
    "    def __init__(self):\n",
    "        super(ConvNet, self).__init__()\n",
    "        \n",
    "        #using sequential helps bind multiple operations together\n",
    "        self.layer1 = nn.Sequential(\n",
    "            nn.Conv2d(1, 25, kernel_size=(1, 11), stride=1, padding=\"valid\"),\n",
    "            nn.LeakyReLU()\n",
    "        )\n",
    "        #after layer 1 will be of shape [32, 25, 2, 631]\n",
    "        self.layer2 = nn.Sequential(\n",
    "            nn.Conv2d(25, 25, kernel_size=(2, 1), stride=1, padding=\"valid\"),\n",
    "            nn.LeakyReLU(),\n",
    "            nn.MaxPool2d(kernel_size=1, stride=3)\n",
    "        )\n",
    "        #after layer 2 will be of shape [32, 25, 1, 211]\n",
    "        self.layer3 = nn.Sequential(\n",
    "            nn.Conv2d(25, 50, kernel_size=(1, 11), stride=1, padding=\"valid\"),\n",
    "            nn.LeakyReLU(),\n",
    "            nn.MaxPool2d(kernel_size=1, stride=3)\n",
    "        )\n",
    "        self.layer4 = nn.Sequential(\n",
    "            nn.Conv2d(50, 100, kernel_size=(1, 11), stride=1, padding=\"valid\"),\n",
    "            nn.BatchNorm2d(100),\n",
    "            nn.LeakyReLU(),\n",
    "            nn.MaxPool2d(kernel_size=1, stride=3)\n",
    "        )\n",
    "        self.layer5 = nn.Sequential(\n",
    "            nn.Conv2d(100, 200, kernel_size=(1, 11), stride=1, padding=\"valid\"),\n",
    "            nn.BatchNorm2d(200),\n",
    "            nn.LeakyReLU(),\n",
    "            nn.MaxPool2d(kernel_size=1, stride=2)\n",
    "        )\n",
    "        self.fc = nn.Linear(200*5, 2)\n",
    "        self.drop_out = nn.Dropout(0.5)  #zeroed 0.2% data\n",
    "        \n",
    "    def forward(self, x):\n",
    "        out = self.layer1(x)\n",
    "        out = self.drop_out(out)\n",
    "        out = self.layer2(out)\n",
    "        out = self.drop_out(out)\n",
    "        out = self.layer3(out)\n",
    "        out = self.drop_out(out)\n",
    "        out = self.layer4(out)\n",
    "        out = self.drop_out(out)\n",
    "        out = self.layer5(out)\n",
    "        out = self.drop_out(out)\n",
    "        out = out.reshape(out.size(0), -1)\n",
    "        out = self.fc(out)\n",
    "        return out"
   ]
  },
  {
   "cell_type": "code",
   "execution_count": 11,
   "id": "6e6f6fd7-fcf3-43f0-a65f-68f07ae1328c",
   "metadata": {},
   "outputs": [],
   "source": [
    "model = ConvNet().to(device)"
   ]
  },
  {
   "cell_type": "code",
   "execution_count": 12,
   "id": "73439eb5-52aa-4fdf-990f-58108057521e",
   "metadata": {},
   "outputs": [],
   "source": [
    "# Loss and optimizer\n",
    "optimizer = optim.Adam(model.parameters(), lr=0.001)\n",
    "criterion = nn.CrossEntropyLoss()"
   ]
  },
  {
   "cell_type": "markdown",
   "id": "afa5be17-0ca4-4e72-a6d3-38c253336e5f",
   "metadata": {},
   "source": [
    "### Training"
   ]
  },
  {
   "cell_type": "code",
   "execution_count": 13,
   "id": "52843be1-52d8-48d0-a7f7-852a87437129",
   "metadata": {},
   "outputs": [
    {
     "name": "stdout",
     "output_type": "stream",
     "text": [
      "Epoch [100/100], Step [23/23], Loss: 0.7005"
     ]
    }
   ],
   "source": [
    "# Train the model\n",
    "num_epochs = 100\n",
    "train_acc = []\n",
    "train_losses = []\n",
    "total_step = len(train_loader)\n",
    "for epoch in range(num_epochs):\n",
    "    total_loss = 0\n",
    "    correct = 0\n",
    "    for i, (images, labels) in enumerate(train_loader):\n",
    "        \n",
    "        #con2d expects (batch, channel, width, height)\n",
    "        images = images.to(device)\n",
    "        labels = labels.to(device)\n",
    "        \n",
    "        # Forward pass\n",
    "        outputs = model(images)\n",
    "        loss = criterion(outputs, labels)\n",
    "        \n",
    "        _, predicted = torch.max(outputs.data, 1)\n",
    "        total_loss += loss.item()\n",
    "        correct += (predicted == labels).sum().item()\n",
    "        \n",
    "        # Backward and optimize\n",
    "        optimizer.zero_grad()\n",
    "        loss.backward()\n",
    "        optimizer.step()\n",
    "    \n",
    "        if (i+1) % 1 == 0:\n",
    "            sys.stdout.write ('\\rEpoch [{}/{}], Step [{}/{}], Loss: {:.4f}' \n",
    "                   .format(epoch+1, num_epochs, i+1, total_step, loss.item()))\n",
    "    train_acc.append(100 * correct / len(train_loader.dataset))\n",
    "    train_losses.append(total_loss / len(train_loader))"
   ]
  },
  {
   "cell_type": "code",
   "execution_count": 14,
   "id": "dd00fb2f-e16c-4d99-867b-c02e69d0ca39",
   "metadata": {},
   "outputs": [
    {
     "data": {
      "image/png": "[encoded data removed]",
      "text/plain": [
       "<Figure size 432x288 with 1 Axes>"
      ]
     },
     "metadata": {
      "needs_background": "light"
     },
     "output_type": "display_data"
    },
    {
     "data": {
      "image/png": "[encoded data removed]",
      "text/plain": [
       "<Figure size 432x288 with 1 Axes>"
      ]
     },
     "metadata": {
      "needs_background": "light"
     },
     "output_type": "display_data"
    }
   ],
   "source": [
    "plt.plot(train_acc, label='train')\n",
    "plt.title('Train Accuracy')\n",
    "plt.show()\n",
    "plt.plot(train_losses, label='train')\n",
    "plt.title('Train Losses')\n",
    "plt.show()"
   ]
  },
  {
   "cell_type": "markdown",
   "id": "16737955-2d43-4765-89e1-414381018e3b",
   "metadata": {},
   "source": [
    "### Testing"
   ]
  },
  {
   "cell_type": "code",
   "execution_count": 15,
   "id": "f562830a-9eba-4d97-a1e6-21959789ba31",
   "metadata": {},
   "outputs": [
    {
     "name": "stdout",
     "output_type": "stream",
     "text": [
      "Test Accuracy of the model: 47.22222222222222 %\n"
     ]
    }
   ],
   "source": [
    "# Test the model\n",
    "model.eval()  # eval mode will turn off the dropout; good to explicitly call when you test\n",
    "all_labels = []\n",
    "all_predicted = []\n",
    "with torch.no_grad():\n",
    "    correct = 0\n",
    "    total = 0\n",
    "    for images, labels in test_loader:\n",
    "        images = images.to(device)\n",
    "        labels = labels.to(device)\n",
    "        outputs = model(images)\n",
    "        _, predicted = torch.max(outputs.data, 1)\n",
    "        total += labels.size(0)\n",
    "        correct += (predicted == labels).sum().item()\n",
    "        all_labels.append(labels.cpu().numpy())  #for plotting\n",
    "        all_predicted.append(predicted.cpu().numpy())\n",
    "\n",
    "    print('Test Accuracy of the model: {} %'.format(100 * correct / total))"
   ]
  },
  {
   "cell_type": "code",
   "execution_count": null,
   "id": "6efb812a-db73-439b-b1ef-83592af314ac",
   "metadata": {},
   "outputs": [],
   "source": []
  }
 ],
 "metadata": {
  "kernelspec": {
   "display_name": "Python 3",
   "language": "python",
   "name": "python3"
  },
  "language_info": {
   "codemirror_mode": {
    "name": "ipython",
    "version": 3
   },
   "file_extension": ".py",
   "mimetype": "text/x-python",
   "name": "python",
   "nbconvert_exporter": "python",
   "pygments_lexer": "ipython3",
   "version": "3.8.8"
  }
 },
 "nbformat": 4,
 "nbformat_minor": 5
}
