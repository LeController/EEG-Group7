{
 "cells": [
  {
   "cell_type": "markdown",
   "id": "5a0ed68a-fb75-4ada-89d6-bb6db706f1a4",
   "metadata": {},
   "source": [
    "# Experiment - CNN 1D with split first"
   ]
  },
  {
   "cell_type": "markdown",
   "id": "99ae9d85-7859-46b1-b76c-5dd38e17b286",
   "metadata": {},
   "source": [
    "## Report\n",
    "* Every hyperparameter is same with `Cross First Concept`.\n",
    "* Preprocessing 11 subjects (1-10), 6 runs (3, 4, 7, 8, 11, 12), filter 1-40, time 0s-4s, C3-C4 channels.\n",
    "* T-min and T-max is the most impact with the result, choose a time that comprehensive all subject action.\n",
    "* Learning rate is more impact, it works well when reduce lr.\n",
    "* Adam optimizer with `0.00001` learning rate.\n",
    "* CNN 1D, 2 layers (64, 128), batch norm.\n",
    "* Reduce channel for expanding batch size and speed up running time, prevent out of memory also."
   ]
  },
  {
   "cell_type": "markdown",
   "id": "f0b704ed-d810-4bcb-b837-f92bc9197d65",
   "metadata": {},
   "source": [
    "## Recap: Split first concept\n",
    "* We will not combine raw of each subjects, structure look like 10 subjects = 10 raws = 10 epochs.\n",
    "* Train Test Split X and y of each subjects independly.\n",
    "* Concate splited X and y together."
   ]
  },
  {
   "cell_type": "markdown",
   "id": "5af8cca0-9617-4cbf-a11b-ac2e87956449",
   "metadata": {},
   "source": [
    "## Recap: CNN 1D\n",
    "* height is eeg channels.\n",
    "* Convulution 1D will extend height.\n",
    "* Kernel size equals to (1, x) in CNN 2D."
   ]
  },
  {
   "cell_type": "markdown",
   "id": "8175325a-b044-4609-aae9-f86dab99cc13",
   "metadata": {},
   "source": [
    "![explain_shape_of_cnn1d](https://miro.medium.com/max/773/1*JMt3BwFFyyIO780dDIN4Uw.png)"
   ]
  },
  {
   "cell_type": "markdown",
   "id": "a83e8791-bcb3-48a7-a634-9d4dc7081b25",
   "metadata": {},
   "source": [
    "## 0. Importing"
   ]
  },
  {
   "cell_type": "code",
   "execution_count": 1,
   "id": "5953a269-ea6c-47d0-acea-cc5f7215f38a",
   "metadata": {},
   "outputs": [],
   "source": [
    "import numpy as np\n",
    "import matplotlib.pyplot as plt\n",
    "import mne\n",
    "import os\n",
    "import sys\n",
    "from mne.datasets import eegbci\n",
    "import glob\n",
    "from IPython.display import clear_output\n",
    "import numpy as np\n",
    "import torch\n",
    "from torch import nn\n",
    "import torch.optim as optim\n",
    "\n",
    "from mne.datasets import eegbci\n",
    "from sklearn.model_selection import train_test_split\n",
    "from torch.utils.data import TensorDataset\n",
    "from torch.utils.data import DataLoader\n",
    "from scipy import signal"
   ]
  },
  {
   "cell_type": "markdown",
   "id": "514dd0ee-1cd8-4df2-ba35-1eeb5fd09254",
   "metadata": {},
   "source": [
    "## 1. Preprocessing"
   ]
  },
  {
   "cell_type": "code",
   "execution_count": 2,
   "id": "fed24e83-0939-43d9-8e4d-d6c649e86d54",
   "metadata": {},
   "outputs": [],
   "source": [
    "class EEG:\n",
    "    def __init__(self, path, base_url, subjects, runs):\n",
    "        self.subpath = 'MNE-eegbci-data/files/eegmmidb/1.0.0'\n",
    "        self.path = path\n",
    "        self.base_url = base_url\n",
    "        self.subjects = subjects\n",
    "        self.runs = runs\n",
    "        \n",
    "        # download data if does not exist in path.\n",
    "        self.load_data()\n",
    "        self.data_to_raw()\n",
    "    \n",
    "    def load_data(self):\n",
    "        print(f\">>> Start download from: {self.base_url}.\")\n",
    "        print(f\"Downloading files to: {self.path}.\")\n",
    "        for subject in self.subjects:\n",
    "            eegbci.load_data(subject,self.runs,path=self.path,base_url=self.base_url)\n",
    "        print(\"Done.\")\n",
    "    \n",
    "    def data_to_raw(self):\n",
    "        fullpath = os.path.join(self.path, *self.subpath.split(sep='/'))\n",
    "        print(f\">>> Extract all subjects from: {fullpath}.\")\n",
    "        extension = \"edf\"\n",
    "        raws = []\n",
    "        raw_subjects = []\n",
    "        count = 1\n",
    "        for i, subject in enumerate(self.subjects):\n",
    "            sname = f\"S{str(subject).zfill(3)}\".upper()\n",
    "            raw_subject = []\n",
    "            for j, run in enumerate(self.runs):\n",
    "                rname = f\"{sname}R{str(run).zfill(2)}\".upper()\n",
    "                path_file = os.path.join(fullpath, sname, f'{rname}.{extension}')\n",
    "                print(f\"Loading file #{count}/{len(self.subjects)*len(self.runs)}: {f'{rname}.{extension}'}\")\n",
    "                raw = mne.io.read_raw_edf( path_file , preload=True, verbose='WARNING' )\n",
    "                raws.append(raw)\n",
    "                raw_subject.append(raw)\n",
    "                count += 1\n",
    "            raw_subjects.append(mne.io.concatenate_raws(raw_subject))\n",
    "\n",
    "        raw = mne.io.concatenate_raws(raws)         # Concatenate all EEGs together\n",
    "        eegbci.standardize(raw)                     # Standardize channel names\n",
    "        montage = mne.channels.make_standard_montage('standard_1005')\n",
    "        raw.set_montage(montage)\n",
    "        self.raw = raw\n",
    "        # set montage to raw of all subjects\n",
    "        for r in raw_subjects:\n",
    "            eegbci.standardize(r)\n",
    "            r.set_montage(montage)\n",
    "        self.raw_subjects = raw_subjects\n",
    "        print(\"Done.\")\n",
    "    \n",
    "    def filter(self, freq):\n",
    "        low, high = freq\n",
    "        print(f\">>> Apply filter.\")\n",
    "        self.raw.filter(low, high, fir_design='firwin', verbose=20)\n",
    "        \n",
    "    def get_events(self, raw, verbose=None):\n",
    "        event_id = dict(T1=0, T2=1) # the events we want to extract\n",
    "        events, event_id = mne.events_from_annotations(raw, event_id=event_id, verbose=verbose)\n",
    "        return events, event_id\n",
    "    \n",
    "    def get_epochs(self, raw, events, event_id, tmin=-1, tmax=4, verbose=None):\n",
    "        picks = mne.pick_types(raw.info, eeg=True, exclude='bads')\n",
    "        epochs = mne.Epochs(raw, events, event_id, tmin, tmax, proj=True, \n",
    "                            picks=picks, baseline=None, preload=True, verbose=verbose)\n",
    "        return epochs\n",
    "    \n",
    "    def create_epochs(self, tmin=-1, tmax=4):\n",
    "        print(\">>> Creating Epochs.\")\n",
    "        events, event_id = self.get_events(self.raw)\n",
    "        self.epochs = self.get_epochs(self.raw, events, event_id, tmin, tmax)\n",
    "        self.epochs_subjects = []\n",
    "        \n",
    "        print(f\">>> Creating Epochs each subjects ({len(self.raw_subjects)}).\")\n",
    "        for r in self.raw_subjects:\n",
    "            r_events, r_event_id = self.get_events(r, verbose=False)\n",
    "            r_e = self.get_epochs(r, events, event_id, tmin, tmax, verbose=False)\n",
    "            self.epochs_subjects.append(r_e)\n",
    "        print(\"Done.\")\n",
    "    \n",
    "    def get_X_y(self, tmin=-1, tmax=4):\n",
    "        if self.epochs is None:\n",
    "            self.create_epochs(tmin, tmax)\n",
    "        self.X = self.epochs.get_data()\n",
    "        self.y = self.epochs.events[:, -1]\n",
    "        return self.X, self.y\n",
    "    \n",
    "    def get_X_y_each_subject(self, tmin=-1, tmax=4):\n",
    "        if self.epochs is None:\n",
    "            self.create_epochs(tmin, tmax)\n",
    "        X = []\n",
    "        y = []\n",
    "        for e in self.epochs_subjects:\n",
    "            X_t = e.get_data()\n",
    "            y_t = e.events[:, -1]\n",
    "            X.append(X_t)\n",
    "            y.append(y_t)\n",
    "        return X, y"
   ]
  },
  {
   "cell_type": "code",
   "execution_count": 3,
   "id": "6c293b0f-7024-4607-b35c-214e59b8420d",
   "metadata": {},
   "outputs": [
    {
     "name": "stdout",
     "output_type": "stream",
     "text": [
      ">>> Start download from: https://physionet.org/files/eegmmidb/1.0.0/.\n",
      "Downloading files to: C:\\Users\\supha\\datasets.\n",
      "Done.\n",
      ">>> Extract all subjects from: C:\\Users\\supha\\datasets\\MNE-eegbci-data\\files\\eegmmidb\\1.0.0.\n",
      "Loading file #1/60: S001R03.edf\n",
      "Loading file #2/60: S001R04.edf\n",
      "Loading file #3/60: S001R07.edf\n",
      "Loading file #4/60: S001R08.edf\n",
      "Loading file #5/60: S001R11.edf\n",
      "Loading file #6/60: S001R12.edf\n",
      "Loading file #7/60: S002R03.edf\n",
      "Loading file #8/60: S002R04.edf\n",
      "Loading file #9/60: S002R07.edf\n",
      "Loading file #10/60: S002R08.edf\n",
      "Loading file #11/60: S002R11.edf\n",
      "Loading file #12/60: S002R12.edf\n",
      "Loading file #13/60: S003R03.edf\n",
      "Loading file #14/60: S003R04.edf\n",
      "Loading file #15/60: S003R07.edf\n",
      "Loading file #16/60: S003R08.edf\n",
      "Loading file #17/60: S003R11.edf\n",
      "Loading file #18/60: S003R12.edf\n",
      "Loading file #19/60: S004R03.edf\n",
      "Loading file #20/60: S004R04.edf\n",
      "Loading file #21/60: S004R07.edf\n",
      "Loading file #22/60: S004R08.edf\n",
      "Loading file #23/60: S004R11.edf\n",
      "Loading file #24/60: S004R12.edf\n",
      "Loading file #25/60: S005R03.edf\n",
      "Loading file #26/60: S005R04.edf\n",
      "Loading file #27/60: S005R07.edf\n",
      "Loading file #28/60: S005R08.edf\n",
      "Loading file #29/60: S005R11.edf\n",
      "Loading file #30/60: S005R12.edf\n",
      "Loading file #31/60: S006R03.edf\n",
      "Loading file #32/60: S006R04.edf\n",
      "Loading file #33/60: S006R07.edf\n",
      "Loading file #34/60: S006R08.edf\n",
      "Loading file #35/60: S006R11.edf\n",
      "Loading file #36/60: S006R12.edf\n",
      "Loading file #37/60: S007R03.edf\n",
      "Loading file #38/60: S007R04.edf\n",
      "Loading file #39/60: S007R07.edf\n",
      "Loading file #40/60: S007R08.edf\n",
      "Loading file #41/60: S007R11.edf\n",
      "Loading file #42/60: S007R12.edf\n",
      "Loading file #43/60: S008R03.edf\n",
      "Loading file #44/60: S008R04.edf\n",
      "Loading file #45/60: S008R07.edf\n",
      "Loading file #46/60: S008R08.edf\n",
      "Loading file #47/60: S008R11.edf\n",
      "Loading file #48/60: S008R12.edf\n",
      "Loading file #49/60: S009R03.edf\n",
      "Loading file #50/60: S009R04.edf\n",
      "Loading file #51/60: S009R07.edf\n",
      "Loading file #52/60: S009R08.edf\n",
      "Loading file #53/60: S009R11.edf\n",
      "Loading file #54/60: S009R12.edf\n",
      "Loading file #55/60: S010R03.edf\n",
      "Loading file #56/60: S010R04.edf\n",
      "Loading file #57/60: S010R07.edf\n",
      "Loading file #58/60: S010R08.edf\n",
      "Loading file #59/60: S010R11.edf\n",
      "Loading file #60/60: S010R12.edf\n",
      "Done.\n",
      ">>> Apply filter.\n",
      "Filtering raw data in 110 contiguous segments\n",
      "Setting up band-pass filter from 1 - 40 Hz\n",
      "\n",
      "FIR filter parameters\n",
      "---------------------\n",
      "Designing a one-pass, zero-phase, non-causal bandpass filter:\n",
      "- Windowed time-domain design (firwin) method\n",
      "- Hamming window with 0.0194 passband ripple and 53 dB stopband attenuation\n",
      "- Lower passband edge: 1.00\n",
      "- Lower transition bandwidth: 1.00 Hz (-6 dB cutoff frequency: 0.50 Hz)\n",
      "- Upper passband edge: 40.00 Hz\n",
      "- Upper transition bandwidth: 10.00 Hz (-6 dB cutoff frequency: 45.00 Hz)\n",
      "- Filter length: 529 samples (3.306 sec)\n",
      "\n",
      ">>> Creating Epochs.\n",
      "Used Annotations descriptions: ['T1', 'T2']\n",
      "Not setting metadata\n",
      "Not setting metadata\n",
      "1650 matching events found\n",
      "No baseline correction applied\n",
      "0 projection items activated\n",
      "Loading data for 1650 events and 641 original time points ...\n",
      "35 bad epochs dropped\n",
      ">>> Creating Epochs each subjects (10).\n",
      "Done.\n"
     ]
    }
   ],
   "source": [
    "# home directory + datasets folder\n",
    "path = os.path.join(os.path.expanduser(\"~\"), 'datasets')\n",
    "base_url = 'https://physionet.org/files/eegmmidb/1.0.0/'\n",
    "# runs = [3, 7]\n",
    "# runs = [6,10,14]\n",
    "runs = [3, 4, 7, 8, 11, 12]\n",
    "subjects = [i for i in range(1, 11)]\n",
    "\n",
    "eeg = EEG(path, base_url, subjects, runs)\n",
    "\n",
    "# apply filter\n",
    "freq = (1., 40.)\n",
    "eeg.filter(freq=freq)\n",
    "\n",
    "eeg.create_epochs(tmin=0, tmax=4)"
   ]
  },
  {
   "cell_type": "markdown",
   "id": "356a0416-0fa1-480e-ad19-2650c7babde1",
   "metadata": {},
   "source": [
    "## 2. Prepare Data"
   ]
  },
  {
   "cell_type": "code",
   "execution_count": 4,
   "id": "84d9a363-ba16-4a4c-9dc9-81282f86fe9c",
   "metadata": {},
   "outputs": [
    {
     "name": "stdout",
     "output_type": "stream",
     "text": [
      "X, y of subject 1: (1615, 64, 641) (1615,)\n",
      "X, y of subject 1 pick channel: (1615, 2, 641) (1615,)\n",
      "X, y of subject 2: (85, 64, 641) (85,)\n",
      "X, y of subject 2 pick channel: (85, 2, 641) (85,)\n",
      "X, y of subject 3: (90, 64, 641) (90,)\n",
      "X, y of subject 3 pick channel: (90, 2, 641) (90,)\n",
      "X, y of subject 4: (85, 64, 641) (85,)\n",
      "X, y of subject 4 pick channel: (85, 2, 641) (85,)\n",
      "X, y of subject 5: (85, 64, 641) (85,)\n",
      "X, y of subject 5 pick channel: (85, 2, 641) (85,)\n",
      "X, y of subject 6: (85, 64, 641) (85,)\n",
      "X, y of subject 6 pick channel: (85, 2, 641) (85,)\n",
      "X, y of subject 7: (90, 64, 641) (90,)\n",
      "X, y of subject 7 pick channel: (90, 2, 641) (90,)\n",
      "X, y of subject 8: (85, 64, 641) (85,)\n",
      "X, y of subject 8 pick channel: (85, 2, 641) (85,)\n",
      "X, y of subject 9: (85, 64, 641) (85,)\n",
      "X, y of subject 9 pick channel: (85, 2, 641) (85,)\n",
      "X, y of subject 10: (85, 64, 641) (85,)\n",
      "X, y of subject 10 pick channel: (85, 2, 641) (85,)\n"
     ]
    }
   ],
   "source": [
    "X_list, y_list = eeg.get_X_y_each_subject()\n",
    "\n",
    "X_train_list = []\n",
    "X_test_list = []\n",
    "y_train_list = []\n",
    "y_test_list = []\n",
    "for i in range(len(X_list)):\n",
    "    X_new = X_list[i]\n",
    "    y_new = y_list[i]\n",
    "    print(f\"X, y of subject {i+1}:\", X_new.shape, y_new.shape)\n",
    "    \n",
    "    # prepare for cnn 2d\n",
    "    # X_new = X_new[:, np.newaxis,:,:]\n",
    "    # print(f\"X, y of subject {i+1} add new axis:\", X_new.shape, y_new.shape)\n",
    "\n",
    "    # pick 7 channels.\n",
    "    # X2 = X_ne[:, 7:14, :]\n",
    "    # X_ne = X2\n",
    "    \n",
    "    # pick C3 and C4 channels.\n",
    "    X2 = X_new[:, 1:2, :] \n",
    "    X3= X_new[:, 5:6, :]\n",
    "    X4 = np.concatenate((X2,X3), axis=1)\n",
    "    X_new = X4\n",
    "    print(f\"X, y of subject {i+1} pick channel:\", X_new.shape, y_new.shape)\n",
    "    \n",
    "    \n",
    "    X_train_t, X_test_t, y_train_t, y_test_t = train_test_split(X_new, y_new, test_size=0.2)\n",
    "    X_train_list.append(X_train_t)\n",
    "    X_test_list.append(X_test_t)\n",
    "    y_train_list.append(y_train_t)\n",
    "    y_test_list.append(y_test_t)"
   ]
  },
  {
   "cell_type": "code",
   "execution_count": 5,
   "id": "9cc6cd8a-9277-43a3-a7fd-d177646ff128",
   "metadata": {},
   "outputs": [
    {
     "name": "stdout",
     "output_type": "stream",
     "text": [
      "(1912, 2, 641) (478, 2, 641) (1912,) (478,)\n"
     ]
    }
   ],
   "source": [
    "X_train = np.concatenate(X_train_list)\n",
    "X_test = np.concatenate(X_test_list)\n",
    "y_train = np.concatenate(y_train_list)\n",
    "y_test = np.concatenate(y_test_list)\n",
    "\n",
    "print(X_train.shape, X_test.shape, y_train.shape, y_test.shape)"
   ]
  },
  {
   "cell_type": "code",
   "execution_count": 6,
   "id": "6ad0e337-f1d4-4221-9841-932b75829e18",
   "metadata": {},
   "outputs": [],
   "source": [
    "def create_dataloader(X, y, batch_size):\n",
    "    X_tensor = torch.tensor(X).float()\n",
    "    y_tensor = torch.tensor(y).long()\n",
    "    dataset_tensor = TensorDataset(X_tensor, y_tensor)\n",
    "    dl = torch.utils.data.DataLoader(dataset_tensor, batch_size=batch_size, shuffle=True)\n",
    "    return dl"
   ]
  },
  {
   "cell_type": "code",
   "execution_count": 7,
   "id": "f7633b4b-9514-4d82-971c-30e9349e4ffd",
   "metadata": {},
   "outputs": [],
   "source": [
    "batch_size = 32\n",
    "train_loader = create_dataloader(X_train, y_train, batch_size=batch_size)\n",
    "test_loader = create_dataloader(X_test, y_test, batch_size=batch_size)"
   ]
  },
  {
   "cell_type": "code",
   "execution_count": 8,
   "id": "120c58c3-e430-4625-b28f-52d30bf8651c",
   "metadata": {},
   "outputs": [
    {
     "name": "stdout",
     "output_type": "stream",
     "text": [
      "torch.Size([32, 2, 641])\n"
     ]
    }
   ],
   "source": [
    "for i, (images, label) in enumerate(train_loader):\n",
    "    print(images.shape)\n",
    "    break"
   ]
  },
  {
   "cell_type": "markdown",
   "id": "fd624167-eae0-4349-895f-cf1c6c232126",
   "metadata": {},
   "source": [
    "## 3. Modeling"
   ]
  },
  {
   "cell_type": "code",
   "execution_count": 9,
   "id": "31212b6f-4492-47ae-8da6-5a9c9834a61a",
   "metadata": {},
   "outputs": [
    {
     "name": "stdout",
     "output_type": "stream",
     "text": [
      "cuda\n"
     ]
    }
   ],
   "source": [
    "#set gpu if available\n",
    "device = torch.device('cuda' if torch.cuda.is_available() else 'cpu')\n",
    "print(device)"
   ]
  },
  {
   "cell_type": "code",
   "execution_count": 10,
   "id": "da46d7cd-89f8-4563-ac6e-907083ac858a",
   "metadata": {},
   "outputs": [],
   "source": [
    "# Convolutional neural network (two convolutional layers)\n",
    "class ConvNet(nn.Module):\n",
    "    def __init__(self):\n",
    "        super(ConvNet, self).__init__()\n",
    "        \n",
    "        #using sequential helps bind multiple operations together\n",
    "        self.layer1 = nn.Sequential(\n",
    "            #padding = (kernel_size - 1) / 2 = 2\n",
    "            nn.Conv1d(2, 64, kernel_size=5, stride=1, padding=2),\n",
    "            nn.BatchNorm1d(64),\n",
    "            nn.ReLU(),\n",
    "            # nn.MaxPool2d(kernel_size=2, stride=2)\n",
    "        )\n",
    "        self.layer2 = nn.Sequential(\n",
    "            nn.Conv1d(64, 128, kernel_size=5, stride=1, padding=2),\n",
    "            nn.BatchNorm1d(128),\n",
    "            nn.ReLU(),\n",
    "            # nn.MaxPool2d(kernel_size=2, stride=2)\n",
    "        )\n",
    "        self.fc = nn.Linear(82048, 2)\n",
    "        self.drop_out = nn.Dropout(0.5)\n",
    "        \n",
    "    def forward(self, x):\n",
    "        out = self.layer1(x)\n",
    "        out = self.drop_out(out)\n",
    "        out = self.layer2(out)\n",
    "        out = self.drop_out(out)\n",
    "        out = out.reshape(out.size(0), -1)   #can also use .view()\n",
    "        out = self.fc(out)\n",
    "        return out"
   ]
  },
  {
   "cell_type": "code",
   "execution_count": 11,
   "id": "f2c20bb8-9d1c-4284-9f0a-374def0f852a",
   "metadata": {},
   "outputs": [],
   "source": [
    "model = ConvNet().to(device)"
   ]
  },
  {
   "cell_type": "code",
   "execution_count": 12,
   "id": "512d0386-5c03-472b-9e65-0bce0952dfec",
   "metadata": {},
   "outputs": [],
   "source": [
    "# Loss and optimizer\n",
    "optimizer = optim.Adam(model.parameters(), lr=0.00001)\n",
    "criterion = nn.CrossEntropyLoss()"
   ]
  },
  {
   "cell_type": "markdown",
   "id": "0d789a3e-df08-4035-b3d4-345c69e44360",
   "metadata": {},
   "source": [
    "## 4. Training & Testing"
   ]
  },
  {
   "cell_type": "code",
   "execution_count": 13,
   "id": "345a7fd4-ab15-47ad-a7f6-469a8f3dfe6c",
   "metadata": {},
   "outputs": [],
   "source": [
    "def train_model(model, train_dataloader, valid_dataloader, \n",
    "                epochs, criterion, optimizer, print_epoch=1000):\n",
    "    \n",
    "    loss_train = []\n",
    "    loss_valid = []\n",
    "    acc_train = []\n",
    "    acc_valid = []\n",
    "    \n",
    "    for i in range(1, epochs+1):\n",
    "        \n",
    "        # ===================TRAIN ======================\n",
    "        model.train()\n",
    "        \n",
    "        epoch_loss = 0\n",
    "        correct = 0\n",
    "        \n",
    "        for x, y in train_dataloader:\n",
    "            \n",
    "            x = x.to(device)\n",
    "            y = y.to(device)\n",
    "            \n",
    "            out = model(x)\n",
    "            \n",
    "            loss = criterion(out, y)\n",
    "            \n",
    "            _,pred = torch.max(out, 1)\n",
    "            \n",
    "            correct += (pred == y).to('cpu').float().sum()\n",
    "            \n",
    "            epoch_loss += loss.item()\n",
    "            \n",
    "            #backprop\n",
    "            optimizer.zero_grad()\n",
    "            loss.backward()\n",
    "            optimizer.step()\n",
    "        \n",
    "        acc_train.append(100 * correct / len(train_dataloader.dataset))\n",
    "        loss_train.append(epoch_loss/len(train_dataloader))\n",
    "        # loss_train.append(epoch_loss)\n",
    "        \n",
    "        # ===================VALIDATION =================\n",
    "        model.eval()\n",
    "    \n",
    "        epoch_loss = 0\n",
    "        correct = 0\n",
    "        \n",
    "        for x, y in valid_dataloader:\n",
    "            \n",
    "            x = x.to(device)\n",
    "            y = y.to(device)\n",
    "            \n",
    "            out = model(x)\n",
    "            \n",
    "            loss = criterion(out, y)\n",
    "            \n",
    "            _,pred = torch.max(out, 1)\n",
    "            \n",
    "            correct += (pred == y).to('cpu').float().sum()\n",
    "            \n",
    "            epoch_loss += loss.item()\n",
    "        \n",
    "        acc_valid.append(100 * correct / len(valid_dataloader.dataset))\n",
    "        loss_valid.append(epoch_loss/len(valid_dataloader))\n",
    "        # loss_valid.append(epoch_loss)\n",
    "        \n",
    "        # ================= PRINT ===========================\n",
    "        if i % print_epoch == 0 :\n",
    "            clear_output(wait=True)\n",
    "            print(f'epoch {i}/{epochs} train loss: {np.round(loss_train[-1],5)} train acc: {np.round(acc_train[-1],5)} validation loss: {np.round(loss_valid[-1],5)} validation acc: {np.round(acc_valid[-1],5)}')\n",
    "            plt.plot(loss_train, label='train')\n",
    "            plt.plot(loss_valid, label='test')\n",
    "            plt.title('Loss during Training')\n",
    "            plt.xlabel('epoch')\n",
    "            plt.ylabel('loss')\n",
    "            plt.legend()\n",
    "            plt.show()\n",
    "\n",
    "            plt.plot(acc_train, label='train')\n",
    "            plt.plot(acc_valid, label='test')\n",
    "            plt.title('Accuracy during Training')\n",
    "            plt.xlabel('epoch')\n",
    "            plt.ylabel('accuracy')\n",
    "            plt.legend()\n",
    "            plt.show()    \n",
    "            \n",
    "    return model, loss_train, loss_valid, acc_train, acc_valid"
   ]
  },
  {
   "cell_type": "code",
   "execution_count": 14,
   "id": "a9c9232e-86d4-4249-9028-48ad3b1e8b09",
   "metadata": {},
   "outputs": [
    {
     "name": "stdout",
     "output_type": "stream",
     "text": [
      "epoch 200/200 train loss: 0.23571 train acc: 91.47489166259766 validation loss: 0.7106 validation acc: 69.45606994628906\n"
     ]
    },
    {
     "data": {
      "image/png": "[encoded data removed]",
      "text/plain": [
       "<Figure size 432x288 with 1 Axes>"
      ]
     },
     "metadata": {
      "needs_background": "light"
     },
     "output_type": "display_data"
    },
    {
     "data": {
      "image/png": "[encoded data removed]",
      "text/plain": [
       "<Figure size 432x288 with 1 Axes>"
      ]
     },
     "metadata": {
      "needs_background": "light"
     },
     "output_type": "display_data"
    }
   ],
   "source": [
    "model, loss_train, loss_valid, acc_train, acc_valid = train_model(\n",
    "    model,\n",
    "    train_loader,\n",
    "    test_loader,\n",
    "    200,\n",
    "    criterion,\n",
    "    optimizer,\n",
    "    10\n",
    ")"
   ]
  },
  {
   "cell_type": "code",
   "execution_count": null,
   "id": "da5f4235-3d6b-4128-9427-33c29b7a8551",
   "metadata": {},
   "outputs": [],
   "source": []
  }
 ],
 "metadata": {
  "kernelspec": {
   "display_name": "Python 3 (ipykernel)",
   "language": "python",
   "name": "python3"
  },
  "language_info": {
   "codemirror_mode": {
    "name": "ipython",
    "version": 3
   },
   "file_extension": ".py",
   "mimetype": "text/x-python",
   "name": "python",
   "nbconvert_exporter": "python",
   "pygments_lexer": "ipython3",
   "version": "3.8.12"
  }
 },
 "nbformat": 4,
 "nbformat_minor": 5
}
