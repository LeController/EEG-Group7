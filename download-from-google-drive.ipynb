{
 "cells": [
  {
   "cell_type": "markdown",
   "id": "4c9b11b4-5ece-426e-8b08-c430125b916d",
   "metadata": {},
   "source": [
    "# Get dataset from Google Drive (alternative)"
   ]
  },
  {
   "cell_type": "markdown",
   "id": "c3428205-52fa-4160-a1eb-a4e9958f620f",
   "metadata": {},
   "source": [
    "## Requirement\n",
    "* client_id.json - contact project contributor to get the secret file. DO NOT commit to git.\n",
    "* google account"
   ]
  },
  {
   "cell_type": "code",
   "execution_count": 1,
   "id": "6b6ccaf5-d907-4e67-a4e4-3cd3a122fb3a",
   "metadata": {},
   "outputs": [
    {
     "name": "stdout",
     "output_type": "stream",
     "text": [
      "Requirement already satisfied: google-api-python-client in c:\\users\\supha\\anaconda3\\lib\\site-packages (2.30.0)\n",
      "Requirement already satisfied: httplib2<1dev,>=0.15.0 in c:\\users\\supha\\anaconda3\\lib\\site-packages (from google-api-python-client) (0.20.2)\n",
      "Requirement already satisfied: google-api-core<3.0.0dev,>=1.21.0 in c:\\users\\supha\\anaconda3\\lib\\site-packages (from google-api-python-client) (2.2.2)\n",
      "Requirement already satisfied: google-auth<3.0.0dev,>=1.16.0 in c:\\users\\supha\\appdata\\roaming\\python\\python38\\site-packages (from google-api-python-client) (2.3.3)\n",
      "Requirement already satisfied: uritemplate<5,>=3.0.0 in c:\\users\\supha\\anaconda3\\lib\\site-packages (from google-api-python-client) (4.1.1)\n",
      "Requirement already satisfied: google-auth-httplib2>=0.1.0 in c:\\users\\supha\\anaconda3\\lib\\site-packages (from google-api-python-client) (0.1.0)\n",
      "Requirement already satisfied: googleapis-common-protos<2.0dev,>=1.52.0 in c:\\users\\supha\\anaconda3\\lib\\site-packages (from google-api-core<3.0.0dev,>=1.21.0->google-api-python-client) (1.53.0)\n",
      "Requirement already satisfied: setuptools>=40.3.0 in c:\\users\\supha\\anaconda3\\lib\\site-packages (from google-api-core<3.0.0dev,>=1.21.0->google-api-python-client) (52.0.0.post20210125)\n",
      "Requirement already satisfied: requests<3.0.0dev,>=2.18.0 in c:\\users\\supha\\anaconda3\\lib\\site-packages (from google-api-core<3.0.0dev,>=1.21.0->google-api-python-client) (2.25.1)\n",
      "Requirement already satisfied: protobuf>=3.12.0 in c:\\users\\supha\\appdata\\roaming\\python\\python38\\site-packages (from google-api-core<3.0.0dev,>=1.21.0->google-api-python-client) (3.19.1)\n",
      "Requirement already satisfied: cachetools<5.0,>=2.0.0 in c:\\users\\supha\\appdata\\roaming\\python\\python38\\site-packages (from google-auth<3.0.0dev,>=1.16.0->google-api-python-client) (4.2.4)\n",
      "Requirement already satisfied: pyasn1-modules>=0.2.1 in c:\\users\\supha\\appdata\\roaming\\python\\python38\\site-packages (from google-auth<3.0.0dev,>=1.16.0->google-api-python-client) (0.2.8)\n",
      "Requirement already satisfied: rsa<5,>=3.1.4 in c:\\users\\supha\\appdata\\roaming\\python\\python38\\site-packages (from google-auth<3.0.0dev,>=1.16.0->google-api-python-client) (4.7.2)\n",
      "Requirement already satisfied: six>=1.9.0 in c:\\users\\supha\\anaconda3\\lib\\site-packages (from google-auth<3.0.0dev,>=1.16.0->google-api-python-client) (1.15.0)\n",
      "Requirement already satisfied: pyparsing!=3.0.0,!=3.0.1,!=3.0.2,!=3.0.3,<4,>=2.4.2 in c:\\users\\supha\\anaconda3\\lib\\site-packages (from httplib2<1dev,>=0.15.0->google-api-python-client) (2.4.7)\n",
      "Requirement already satisfied: pyasn1<0.5.0,>=0.4.6 in c:\\users\\supha\\appdata\\roaming\\python\\python38\\site-packages (from pyasn1-modules>=0.2.1->google-auth<3.0.0dev,>=1.16.0->google-api-python-client) (0.4.8)\n",
      "Requirement already satisfied: urllib3<1.27,>=1.21.1 in c:\\users\\supha\\anaconda3\\lib\\site-packages (from requests<3.0.0dev,>=2.18.0->google-api-core<3.0.0dev,>=1.21.0->google-api-python-client) (1.26.4)\n",
      "Requirement already satisfied: chardet<5,>=3.0.2 in c:\\users\\supha\\anaconda3\\lib\\site-packages (from requests<3.0.0dev,>=2.18.0->google-api-core<3.0.0dev,>=1.21.0->google-api-python-client) (4.0.0)\n",
      "Requirement already satisfied: certifi>=2017.4.17 in c:\\users\\supha\\anaconda3\\lib\\site-packages (from requests<3.0.0dev,>=2.18.0->google-api-core<3.0.0dev,>=1.21.0->google-api-python-client) (2020.12.5)\n",
      "Requirement already satisfied: idna<3,>=2.5 in c:\\users\\supha\\anaconda3\\lib\\site-packages (from requests<3.0.0dev,>=2.18.0->google-api-core<3.0.0dev,>=1.21.0->google-api-python-client) (2.10)\n"
     ]
    }
   ],
   "source": [
    "!pip install --upgrade google-api-python-client"
   ]
  },
  {
   "cell_type": "code",
   "execution_count": 2,
   "id": "63eec4c0-d357-495a-aa05-c690c89f40b8",
   "metadata": {},
   "outputs": [],
   "source": [
    "from apiclient import discovery\n",
    "from httplib2 import Http\n",
    "import oauth2client\n",
    "from oauth2client import file, client, tools\n",
    "obj = lambda: None\n",
    "lmao = {\"auth_host_name\":'localhost', 'noauth_local_webserver':'store_true', 'auth_host_port':[8080, 8090], 'logging_level':'ERROR'}\n",
    "for k, v in lmao.items():\n",
    "    setattr(obj, k, v)\n",
    "    \n",
    "# authorization boilerplate code\n",
    "SCOPES = 'https://www.googleapis.com/auth/drive.readonly'\n",
    "store = file.Storage('token.json')\n",
    "creds = store.get()\n",
    "# The following will give you a link if token.json does not exist, the link allows the user to give this app permission\n",
    "if not creds or creds.invalid:\n",
    "    flow = client.flow_from_clientsecrets('client_id.json', SCOPES)\n",
    "    creds = tools.run_flow(flow, store, obj)"
   ]
  },
  {
   "cell_type": "markdown",
   "id": "305dfe74-88de-42c8-9c8e-bd2330978d45",
   "metadata": {},
   "source": [
    "## Google Cloud\n",
    "The credential `client_id.json` file is a secret file. Please contact contributor or owner file.\\\n",
    "\n",
    "The config is following here:\\\n",
    "`file_id` is id of shareable link. Get it in Google drive link share.\\\n",
    "`filename` is named file in google drive.\\\n",
    "`dirname` is named directory in zip file.\\\n",
    "`root_dirname` is default root storage dataset folder."
   ]
  },
  {
   "cell_type": "markdown",
   "id": "65ed9a7b-41fc-4c93-b48b-9396dcae1ce2",
   "metadata": {},
   "source": [
    "## eeg-motor-movementimagery-dataset-1.0.0\n",
    "[This file](https://www.physionet.org/content/eegmmidb/1.0.0/?fbclid=IwAR2kuqf4NSyTw4xBwzKEEnYtN1ilNKH6EX3I2-UWIKYzFdUfjBpVswdTZtw) is in personal drive, the file maybe deleted or unshareable after end of semester (August 2021). Please download or backup from original source."
   ]
  },
  {
   "cell_type": "code",
   "execution_count": 3,
   "id": "a1e109df-9461-4ae5-a97f-0dc8c5484a99",
   "metadata": {},
   "outputs": [],
   "source": [
    "file_id = '1Knm0SGw5563P7I3BB2P95eM00Kw8PY4N'\n",
    "filename = 'eeg-motor-movementimagery-dataset-1.0.0.zip'\n",
    "dirname = 'files'\n",
    "root_dirname = 'EEG-data'"
   ]
  },
  {
   "cell_type": "code",
   "execution_count": 4,
   "id": "de2b3b5d-7144-4bb8-a186-e354cdf8c0c1",
   "metadata": {},
   "outputs": [
    {
     "name": "stdout",
     "output_type": "stream",
     "text": [
      "Download 5%.\n",
      "Download 10%.\n",
      "Download 15%.\n",
      "Download 20%.\n",
      "Download 26%.\n",
      "Download 31%.\n",
      "Download 36%.\n",
      "Download 41%.\n",
      "Download 47%.\n",
      "Download 52%.\n",
      "Download 57%.\n",
      "Download 62%.\n",
      "Download 68%.\n",
      "Download 73%.\n",
      "Download 78%.\n",
      "Download 83%.\n",
      "Download 89%.\n",
      "Download 94%.\n",
      "Download 99%.\n",
      "Download 100%.\n",
      "Unzipped file.\n"
     ]
    }
   ],
   "source": [
    "import io\n",
    "import os\n",
    "import zipfile\n",
    "from googleapiclient.http import MediaIoBaseDownload\n",
    "\n",
    "if not os.path.exists(os.path.join(os.getcwd(), root_dirname, dirname)):\n",
    "    DRIVE = discovery.build('drive', 'v3', http=creds.authorize(Http()))\n",
    "    # if you get the shareable link, the link contains this id, replace the file_id below\n",
    "    request = DRIVE.files().get_media(fileId=file_id)\n",
    "    # replace the filename and extension in the first field below\n",
    "    fh = io.FileIO(f\"{root_dirname}/{filename}\", mode='w')\n",
    "    downloader = MediaIoBaseDownload(fh, request)\n",
    "    done = False\n",
    "    while done is False:\n",
    "        status, done = downloader.next_chunk()\n",
    "        print(\"Download %d%%.\" % int(status.progress() * 100))\n",
    "        \n",
    "    with zipfile.ZipFile(f\"{root_dirname}/{filename}\",\"r\") as zip_ref:\n",
    "        zip_ref.extractall(root_dirname)\n",
    "        print(\"Unzipped file.\")"
   ]
  },
  {
   "cell_type": "code",
   "execution_count": null,
   "id": "85ab3b19-e8be-4a1b-9cd5-794300313877",
   "metadata": {},
   "outputs": [],
   "source": []
  }
 ],
 "metadata": {
  "kernelspec": {
   "display_name": "Python 3",
   "language": "python",
   "name": "python3"
  },
  "language_info": {
   "codemirror_mode": {
    "name": "ipython",
    "version": 3
   },
   "file_extension": ".py",
   "mimetype": "text/x-python",
   "name": "python",
   "nbconvert_exporter": "python",
   "pygments_lexer": "ipython3",
   "version": "3.8.8"
  }
 },
 "nbformat": 4,
 "nbformat_minor": 5
}
